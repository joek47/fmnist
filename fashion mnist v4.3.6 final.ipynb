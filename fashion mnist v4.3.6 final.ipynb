{
 "cells": [
  {
   "cell_type": "code",
   "execution_count": 1,
   "metadata": {},
   "outputs": [
    {
     "name": "stderr",
     "output_type": "stream",
     "text": [
      "/home/lam/anaconda2/envs/tf15/lib/python3.6/site-packages/h5py/__init__.py:36: FutureWarning: Conversion of the second argument of issubdtype from `float` to `np.floating` is deprecated. In future, it will be treated as `np.float64 == np.dtype(float).type`.\n",
      "  from ._conv import register_converters as _register_converters\n",
      "Using TensorFlow backend.\n"
     ]
    },
    {
     "data": {
      "text/plain": [
       "['/job:localhost/replica:0/task:0/device:GPU:0']"
      ]
     },
     "execution_count": 1,
     "metadata": {},
     "output_type": "execute_result"
    }
   ],
   "source": [
    "from keras import backend as K\n",
    "K.tensorflow_backend._get_available_gpus()"
   ]
  },
  {
   "cell_type": "code",
   "execution_count": 2,
   "metadata": {
    "_cell_guid": "2c3412a4-039b-4229-9387-9321169f16eb",
    "_uuid": "8def9627e9d48b26de3159fc9a2ec38e854ab16e"
   },
   "outputs": [
    {
     "name": "stdout",
     "output_type": "stream",
     "text": [
      "fashion-mnist_test.csv\n",
      "fashion-mnist_train.csv\n",
      "t10k-images-idx3-ubyte\n",
      "t10k-labels-idx1-ubyte\n",
      "train-images-idx3-ubyte\n",
      "train-labels-idx1-ubyte\n",
      "\n"
     ]
    }
   ],
   "source": [
    "import numpy as np \n",
    "import pandas as pd \n",
    "\n",
    "from subprocess import check_output\n",
    "print(check_output([\"ls\", \"input\"]).decode(\"utf8\"))"
   ]
  },
  {
   "cell_type": "code",
   "execution_count": 3,
   "metadata": {
    "_cell_guid": "dec05004-ccb3-490e-b588-27c0f4f06d1e",
    "_uuid": "41907ec74cae883fa8d56f6556cade5c67c8f3e0"
   },
   "outputs": [],
   "source": [
    "from keras.utils import to_categorical\n",
    "import numpy as np\n",
    "import pandas as pd\n",
    "from sklearn.model_selection import train_test_split\n",
    "\n",
    "data_train = pd.read_csv('input/fashion-mnist_train.csv')\n",
    "data_test = pd.read_csv('input/fashion-mnist_test.csv')\n",
    "\n",
    "img_rows, img_cols = 28, 28\n",
    "input_shape = (img_rows, img_cols, 1)\n",
    "\n",
    "X = np.array(data_train.iloc[:, 1:])\n",
    "y = to_categorical(np.array(data_train.iloc[:, 0]))\n",
    "\n",
    "#Here we split validation data to optimiza classifier during training\n",
    "X_train, X_val, y_train, y_val = train_test_split(X, y, test_size=0.2, random_state=13)\n",
    "\n",
    "#Test data\n",
    "X_test = np.array(data_test.iloc[:, 1:])\n",
    "y_test = to_categorical(np.array(data_test.iloc[:, 0]))\n",
    "\n",
    "X_train = X_train.reshape(X_train.shape[0], img_rows, img_cols, 1)\n",
    "X_test = X_test.reshape(X_test.shape[0], img_rows, img_cols, 1)\n",
    "X_val = X_val.reshape(X_val.shape[0], img_rows, img_cols, 1)\n",
    "\n",
    "X_train = X_train.astype('float32')\n",
    "X_test = X_test.astype('float32')\n",
    "X_val = X_val.astype('float32')\n",
    "X_train /= 255\n",
    "X_test /= 255\n",
    "X_val /= 255"
   ]
  },
  {
   "cell_type": "code",
   "execution_count": 4,
   "metadata": {},
   "outputs": [],
   "source": [
    "from imgaug import augmenters as iaa\n",
    "\n",
    "sometimes = lambda aug: iaa.Sometimes(0.5, aug)\n",
    "# seq = iaa.Sequential([iaa.Fliplr(0.5), sometimes(iaa.Affine(rotate=(-5, 5), shear=(-5, 5)))])\n",
    "seq = iaa.Sequential([iaa.GaussianBlur(sigma=(0, 0.5))])\n",
    "X_train = seq.augment_images(X_train)"
   ]
  },
  {
   "cell_type": "code",
   "execution_count": 5,
   "metadata": {
    "_cell_guid": "0599166d-b975-4c88-8b91-071a8f4fb0cd",
    "_uuid": "0e9db73157e2c0e481bf3d73892d8d29263aa56f"
   },
   "outputs": [],
   "source": [
    "import keras\n",
    "from keras.models import Sequential\n",
    "from keras.layers import Dense, Dropout, Flatten\n",
    "from keras.layers import Conv2D, MaxPooling2D\n",
    "from keras.layers.normalization import BatchNormalization\n",
    "\n",
    "batch_size = 256\n",
    "num_classes = 10\n",
    "epochs = 50\n",
    "\n",
    "#input image dimensions\n",
    "img_rows, img_cols = 28, 28\n",
    "\n",
    "model = Sequential()\n",
    "model.add(Conv2D(64, kernel_size=(3, 3),\n",
    "                 activation='relu',\n",
    "                 kernel_initializer='he_normal',\n",
    "                 input_shape=input_shape))\n",
    "model.add(MaxPooling2D((2, 2)))\n",
    "model.add(BatchNormalization())\n",
    "model.add(Dropout(0.25))\n",
    "model.add(Conv2D(128, (3, 3), activation='relu'))\n",
    "model.add(MaxPooling2D(pool_size=(2, 2)))\n",
    "model.add(BatchNormalization())\n",
    "model.add(Dropout(0.25))\n",
    "model.add(Conv2D(256, (3, 3), activation='relu'))\n",
    "model.add(BatchNormalization())\n",
    "model.add(Dropout(0.4))\n",
    "model.add(Flatten())\n",
    "model.add(Dense(256, activation='relu'))\n",
    "model.add(BatchNormalization())\n",
    "model.add(Dropout(0.3))\n",
    "model.add(Dense(num_classes, activation='softmax'))\n",
    "\n",
    "# load or start from scratch\n",
    "# model.load_weights(\"v4.3.5_ia/weights-improvement-04-0.94.hdf5\")\n",
    "\n",
    "model.compile(loss=keras.losses.categorical_crossentropy,\n",
    "              optimizer=keras.optimizers.Adam(lr=0.0001),\n",
    "              metrics=['accuracy'])"
   ]
  },
  {
   "cell_type": "code",
   "execution_count": 6,
   "metadata": {},
   "outputs": [],
   "source": [
    "from keras.callbacks import ModelCheckpoint\n",
    "import os\n",
    "\n",
    "outpath = \"v4.3.6_ia\"\n",
    "if not os.path.exists(outpath):\n",
    "    os.mkdir(outpath)\n",
    "filepath= outpath + \"/weights-improvement-{epoch:02d}-{val_acc:.2f}.hdf5\"\n",
    "checkpoint = ModelCheckpoint(filepath, monitor='val_acc', verbose=1, save_best_only=True, mode='max')\n",
    "callbacks_list = [checkpoint]"
   ]
  },
  {
   "cell_type": "code",
   "execution_count": 7,
   "metadata": {
    "_cell_guid": "4543df54-7373-49f8-a23a-6d8062eefe38",
    "_uuid": "9de535d8a446b7168ac3790445610425527c8a47"
   },
   "outputs": [
    {
     "name": "stdout",
     "output_type": "stream",
     "text": [
      "_________________________________________________________________\n",
      "Layer (type)                 Output Shape              Param #   \n",
      "=================================================================\n",
      "conv2d_1 (Conv2D)            (None, 26, 26, 64)        640       \n",
      "_________________________________________________________________\n",
      "max_pooling2d_1 (MaxPooling2 (None, 13, 13, 64)        0         \n",
      "_________________________________________________________________\n",
      "batch_normalization_1 (Batch (None, 13, 13, 64)        256       \n",
      "_________________________________________________________________\n",
      "dropout_1 (Dropout)          (None, 13, 13, 64)        0         \n",
      "_________________________________________________________________\n",
      "conv2d_2 (Conv2D)            (None, 11, 11, 128)       73856     \n",
      "_________________________________________________________________\n",
      "max_pooling2d_2 (MaxPooling2 (None, 5, 5, 128)         0         \n",
      "_________________________________________________________________\n",
      "batch_normalization_2 (Batch (None, 5, 5, 128)         512       \n",
      "_________________________________________________________________\n",
      "dropout_2 (Dropout)          (None, 5, 5, 128)         0         \n",
      "_________________________________________________________________\n",
      "conv2d_3 (Conv2D)            (None, 3, 3, 256)         295168    \n",
      "_________________________________________________________________\n",
      "batch_normalization_3 (Batch (None, 3, 3, 256)         1024      \n",
      "_________________________________________________________________\n",
      "dropout_3 (Dropout)          (None, 3, 3, 256)         0         \n",
      "_________________________________________________________________\n",
      "flatten_1 (Flatten)          (None, 2304)              0         \n",
      "_________________________________________________________________\n",
      "dense_1 (Dense)              (None, 256)               590080    \n",
      "_________________________________________________________________\n",
      "batch_normalization_4 (Batch (None, 256)               1024      \n",
      "_________________________________________________________________\n",
      "dropout_4 (Dropout)          (None, 256)               0         \n",
      "_________________________________________________________________\n",
      "dense_2 (Dense)              (None, 10)                2570      \n",
      "=================================================================\n",
      "Total params: 965,130\n",
      "Trainable params: 963,722\n",
      "Non-trainable params: 1,408\n",
      "_________________________________________________________________\n"
     ]
    }
   ],
   "source": [
    "model.summary()"
   ]
  },
  {
   "cell_type": "code",
   "execution_count": 8,
   "metadata": {},
   "outputs": [
    {
     "data": {
      "text/plain": [
       "['loss', 'acc']"
      ]
     },
     "execution_count": 8,
     "metadata": {},
     "output_type": "execute_result"
    }
   ],
   "source": [
    "model.metrics_names"
   ]
  },
  {
   "cell_type": "markdown",
   "metadata": {
    "_cell_guid": "c9d072ca-23e7-4608-a9d8-dc818715d6e3",
    "_uuid": "1e85d4b1d5fb567f2aad6bd82da969629e585f14"
   },
   "source": [
    "### Training\n",
    "Let's `fit()`! Note that `fit()` will return a _History_ object which we can use to plot training vs. validation accuracy and loss."
   ]
  },
  {
   "cell_type": "code",
   "execution_count": 9,
   "metadata": {
    "_cell_guid": "f24bf149-70e5-43f2-8574-117606493c85",
    "_uuid": "71b754f661ab2bba5e0d2c280d033a57300ef7e2",
    "scrolled": false
   },
   "outputs": [
    {
     "name": "stdout",
     "output_type": "stream",
     "text": [
      "Train on 48000 samples, validate on 12000 samples\n",
      "Epoch 1/50\n",
      "48000/48000 [==============================] - 14s 301us/step - loss: 0.0429 - acc: 0.9849 - val_loss: 0.2301 - val_acc: 0.9366\n",
      "\n",
      "Epoch 00001: val_acc improved from -inf to 0.93658, saving model to v4.3.6_ia/weights-improvement-01-0.94.hdf5\n",
      "Epoch 2/50\n",
      "48000/48000 [==============================] - 12s 258us/step - loss: 0.0437 - acc: 0.9837 - val_loss: 0.2303 - val_acc: 0.9372\n",
      "\n",
      "Epoch 00002: val_acc improved from 0.93658 to 0.93717, saving model to v4.3.6_ia/weights-improvement-02-0.94.hdf5\n",
      "Epoch 3/50\n",
      "48000/48000 [==============================] - 13s 268us/step - loss: 0.0401 - acc: 0.9853 - val_loss: 0.2344 - val_acc: 0.9348\n",
      "\n",
      "Epoch 00003: val_acc did not improve\n",
      "Epoch 4/50\n",
      "48000/48000 [==============================] - 13s 264us/step - loss: 0.0397 - acc: 0.9859 - val_loss: 0.2337 - val_acc: 0.9359\n",
      "\n",
      "Epoch 00004: val_acc did not improve\n",
      "Epoch 5/50\n",
      "48000/48000 [==============================] - 13s 262us/step - loss: 0.0415 - acc: 0.9848 - val_loss: 0.2329 - val_acc: 0.9368\n",
      "\n",
      "Epoch 00005: val_acc did not improve\n",
      "Epoch 6/50\n",
      "48000/48000 [==============================] - 13s 261us/step - loss: 0.0393 - acc: 0.9852 - val_loss: 0.2368 - val_acc: 0.9363\n",
      "\n",
      "Epoch 00006: val_acc did not improve\n",
      "Epoch 7/50\n",
      "48000/48000 [==============================] - 13s 264us/step - loss: 0.0386 - acc: 0.9857 - val_loss: 0.2371 - val_acc: 0.9360\n",
      "\n",
      "Epoch 00007: val_acc did not improve\n",
      "Epoch 8/50\n",
      "48000/48000 [==============================] - 13s 265us/step - loss: 0.0376 - acc: 0.9861 - val_loss: 0.2442 - val_acc: 0.9352\n",
      "\n",
      "Epoch 00008: val_acc did not improve\n",
      "Epoch 9/50\n",
      "48000/48000 [==============================] - 13s 265us/step - loss: 0.0388 - acc: 0.9860 - val_loss: 0.2420 - val_acc: 0.9362\n",
      "\n",
      "Epoch 00009: val_acc did not improve\n",
      "Epoch 10/50\n",
      "48000/48000 [==============================] - 13s 270us/step - loss: 0.0387 - acc: 0.9859 - val_loss: 0.2427 - val_acc: 0.9352\n",
      "\n",
      "Epoch 00010: val_acc did not improve\n",
      "Epoch 11/50\n",
      "48000/48000 [==============================] - 13s 265us/step - loss: 0.0373 - acc: 0.9864 - val_loss: 0.2405 - val_acc: 0.9375\n",
      "\n",
      "Epoch 00011: val_acc improved from 0.93717 to 0.93750, saving model to v4.3.6_ia/weights-improvement-11-0.94.hdf5\n",
      "Epoch 12/50\n",
      "48000/48000 [==============================] - 13s 272us/step - loss: 0.0379 - acc: 0.9858 - val_loss: 0.2392 - val_acc: 0.9377\n",
      "\n",
      "Epoch 00012: val_acc improved from 0.93750 to 0.93767, saving model to v4.3.6_ia/weights-improvement-12-0.94.hdf5\n",
      "Epoch 13/50\n",
      "48000/48000 [==============================] - 13s 267us/step - loss: 0.0372 - acc: 0.9865 - val_loss: 0.2441 - val_acc: 0.9361\n",
      "\n",
      "Epoch 00013: val_acc did not improve\n",
      "Epoch 14/50\n",
      "48000/48000 [==============================] - 13s 267us/step - loss: 0.0369 - acc: 0.9868 - val_loss: 0.2456 - val_acc: 0.9353\n",
      "\n",
      "Epoch 00014: val_acc did not improve\n",
      "Epoch 15/50\n",
      "48000/48000 [==============================] - 13s 270us/step - loss: 0.0344 - acc: 0.9868 - val_loss: 0.2450 - val_acc: 0.9362\n",
      "\n",
      "Epoch 00015: val_acc did not improve\n",
      "Epoch 16/50\n",
      "48000/48000 [==============================] - 13s 263us/step - loss: 0.0350 - acc: 0.9872 - val_loss: 0.2489 - val_acc: 0.9368\n",
      "\n",
      "Epoch 00016: val_acc did not improve\n",
      "Epoch 17/50\n",
      "48000/48000 [==============================] - 13s 263us/step - loss: 0.0355 - acc: 0.9870 - val_loss: 0.2468 - val_acc: 0.9362\n",
      "\n",
      "Epoch 00017: val_acc did not improve\n",
      "Epoch 18/50\n",
      "48000/48000 [==============================] - 13s 268us/step - loss: 0.0372 - acc: 0.9863 - val_loss: 0.2501 - val_acc: 0.9350\n",
      "\n",
      "Epoch 00018: val_acc did not improve\n",
      "Epoch 19/50\n",
      "48000/48000 [==============================] - 13s 267us/step - loss: 0.0341 - acc: 0.9877 - val_loss: 0.2503 - val_acc: 0.9345\n",
      "\n",
      "Epoch 00019: val_acc did not improve\n",
      "Epoch 20/50\n",
      "48000/48000 [==============================] - 13s 262us/step - loss: 0.0346 - acc: 0.9873 - val_loss: 0.2490 - val_acc: 0.9356\n",
      "\n",
      "Epoch 00020: val_acc did not improve\n",
      "Epoch 21/50\n",
      "48000/48000 [==============================] - 13s 267us/step - loss: 0.0354 - acc: 0.9871 - val_loss: 0.2501 - val_acc: 0.9366\n",
      "\n",
      "Epoch 00021: val_acc did not improve\n",
      "Epoch 22/50\n",
      "48000/48000 [==============================] - 13s 263us/step - loss: 0.0351 - acc: 0.9875 - val_loss: 0.2510 - val_acc: 0.9369\n",
      "\n",
      "Epoch 00022: val_acc did not improve\n",
      "Epoch 23/50\n",
      "48000/48000 [==============================] - 13s 264us/step - loss: 0.0335 - acc: 0.9876 - val_loss: 0.2526 - val_acc: 0.9362\n",
      "\n",
      "Epoch 00023: val_acc did not improve\n",
      "Epoch 24/50\n",
      "48000/48000 [==============================] - 13s 271us/step - loss: 0.0338 - acc: 0.9874 - val_loss: 0.2505 - val_acc: 0.9367\n",
      "\n",
      "Epoch 00024: val_acc did not improve\n",
      "Epoch 25/50\n",
      "48000/48000 [==============================] - 13s 270us/step - loss: 0.0320 - acc: 0.9884 - val_loss: 0.2520 - val_acc: 0.9369\n",
      "\n",
      "Epoch 00025: val_acc did not improve\n",
      "Epoch 26/50\n",
      "48000/48000 [==============================] - 13s 265us/step - loss: 0.0330 - acc: 0.9874 - val_loss: 0.2528 - val_acc: 0.9373\n",
      "\n",
      "Epoch 00026: val_acc did not improve\n",
      "Epoch 27/50\n",
      "48000/48000 [==============================] - 12s 259us/step - loss: 0.0324 - acc: 0.9882 - val_loss: 0.2557 - val_acc: 0.9359\n",
      "\n",
      "Epoch 00027: val_acc did not improve\n",
      "Epoch 28/50\n",
      "48000/48000 [==============================] - 13s 264us/step - loss: 0.0326 - acc: 0.9880 - val_loss: 0.2577 - val_acc: 0.9355\n",
      "\n",
      "Epoch 00028: val_acc did not improve\n",
      "Epoch 29/50\n",
      "48000/48000 [==============================] - 13s 264us/step - loss: 0.0329 - acc: 0.9878 - val_loss: 0.2576 - val_acc: 0.9364\n",
      "\n",
      "Epoch 00029: val_acc did not improve\n",
      "Epoch 30/50\n",
      "48000/48000 [==============================] - 13s 262us/step - loss: 0.0320 - acc: 0.9885 - val_loss: 0.2604 - val_acc: 0.9347\n",
      "\n",
      "Epoch 00030: val_acc did not improve\n",
      "Epoch 31/50\n",
      "48000/48000 [==============================] - 13s 267us/step - loss: 0.0319 - acc: 0.9884 - val_loss: 0.2578 - val_acc: 0.9363\n",
      "\n",
      "Epoch 00031: val_acc did not improve\n",
      "Epoch 32/50\n",
      "48000/48000 [==============================] - 13s 266us/step - loss: 0.0339 - acc: 0.9879 - val_loss: 0.2562 - val_acc: 0.9368\n",
      "\n",
      "Epoch 00032: val_acc did not improve\n",
      "Epoch 33/50\n",
      "48000/48000 [==============================] - 13s 269us/step - loss: 0.0317 - acc: 0.9888 - val_loss: 0.2570 - val_acc: 0.9368\n",
      "\n",
      "Epoch 00033: val_acc did not improve\n",
      "Epoch 34/50\n",
      "48000/48000 [==============================] - 13s 260us/step - loss: 0.0300 - acc: 0.9894 - val_loss: 0.2600 - val_acc: 0.9364\n",
      "\n",
      "Epoch 00034: val_acc did not improve\n",
      "Epoch 35/50\n",
      "48000/48000 [==============================] - 13s 265us/step - loss: 0.0312 - acc: 0.9888 - val_loss: 0.2606 - val_acc: 0.9373\n",
      "\n",
      "Epoch 00035: val_acc did not improve\n",
      "Epoch 36/50\n",
      "48000/48000 [==============================] - 12s 259us/step - loss: 0.0318 - acc: 0.9879 - val_loss: 0.2606 - val_acc: 0.9364\n",
      "\n",
      "Epoch 00036: val_acc did not improve\n",
      "Epoch 37/50\n",
      "48000/48000 [==============================] - 12s 259us/step - loss: 0.0314 - acc: 0.9885 - val_loss: 0.2627 - val_acc: 0.9368\n",
      "\n",
      "Epoch 00037: val_acc did not improve\n",
      "Epoch 38/50\n",
      "48000/48000 [==============================] - 13s 263us/step - loss: 0.0295 - acc: 0.9892 - val_loss: 0.2670 - val_acc: 0.9360\n",
      "\n",
      "Epoch 00038: val_acc did not improve\n",
      "Epoch 39/50\n",
      "48000/48000 [==============================] - 13s 263us/step - loss: 0.0301 - acc: 0.9890 - val_loss: 0.2654 - val_acc: 0.9372\n",
      "\n",
      "Epoch 00039: val_acc did not improve\n",
      "Epoch 40/50\n",
      "48000/48000 [==============================] - 13s 263us/step - loss: 0.0293 - acc: 0.9892 - val_loss: 0.2690 - val_acc: 0.9352\n",
      "\n",
      "Epoch 00040: val_acc did not improve\n",
      "Epoch 41/50\n",
      "48000/48000 [==============================] - 13s 264us/step - loss: 0.0319 - acc: 0.9885 - val_loss: 0.2651 - val_acc: 0.9364\n",
      "\n",
      "Epoch 00041: val_acc did not improve\n",
      "Epoch 42/50\n",
      "48000/48000 [==============================] - 13s 266us/step - loss: 0.0312 - acc: 0.9885 - val_loss: 0.2643 - val_acc: 0.9363\n",
      "\n",
      "Epoch 00042: val_acc did not improve\n",
      "Epoch 43/50\n",
      "48000/48000 [==============================] - 13s 263us/step - loss: 0.0304 - acc: 0.9890 - val_loss: 0.2631 - val_acc: 0.9369\n",
      "\n",
      "Epoch 00043: val_acc did not improve\n",
      "Epoch 44/50\n",
      "48000/48000 [==============================] - 12s 260us/step - loss: 0.0299 - acc: 0.9889 - val_loss: 0.2688 - val_acc: 0.9354\n",
      "\n",
      "Epoch 00044: val_acc did not improve\n",
      "Epoch 45/50\n",
      "48000/48000 [==============================] - 13s 263us/step - loss: 0.0304 - acc: 0.9887 - val_loss: 0.2643 - val_acc: 0.9370\n",
      "\n",
      "Epoch 00045: val_acc did not improve\n",
      "Epoch 46/50\n",
      "48000/48000 [==============================] - 13s 265us/step - loss: 0.0286 - acc: 0.9892 - val_loss: 0.2671 - val_acc: 0.9364\n",
      "\n",
      "Epoch 00046: val_acc did not improve\n",
      "Epoch 47/50\n",
      "48000/48000 [==============================] - 13s 269us/step - loss: 0.0290 - acc: 0.9900 - val_loss: 0.2682 - val_acc: 0.9371\n",
      "\n",
      "Epoch 00047: val_acc did not improve\n",
      "Epoch 48/50\n",
      "48000/48000 [==============================] - 13s 264us/step - loss: 0.0292 - acc: 0.9894 - val_loss: 0.2667 - val_acc: 0.9366\n",
      "\n",
      "Epoch 00048: val_acc did not improve\n",
      "Epoch 49/50\n",
      "48000/48000 [==============================] - 13s 264us/step - loss: 0.0291 - acc: 0.9894 - val_loss: 0.2676 - val_acc: 0.9363\n",
      "\n",
      "Epoch 00049: val_acc did not improve\n",
      "Epoch 50/50\n",
      "48000/48000 [==============================] - 13s 261us/step - loss: 0.0277 - acc: 0.9901 - val_loss: 0.2668 - val_acc: 0.9363\n",
      "\n",
      "Epoch 00050: val_acc did not improve\n"
     ]
    }
   ],
   "source": [
    "history = model.fit(X_train, y_train,\n",
    "          batch_size=batch_size,\n",
    "          epochs=epochs,\n",
    "          verbose=1,\n",
    "          validation_data=(X_val, y_val), callbacks=callbacks_list)\n",
    "score = model.evaluate(X_test, y_test, verbose=0)"
   ]
  },
  {
   "cell_type": "code",
   "execution_count": 10,
   "metadata": {
    "_cell_guid": "f4b6cb78-1ef8-46ba-b72d-49a49c81bff0",
    "_uuid": "48787728c57ad402547540b5d528aabbd8b20c0d"
   },
   "outputs": [
    {
     "name": "stdout",
     "output_type": "stream",
     "text": [
      "Test loss: 0.2599919076454826\n",
      "Test accuracy: 0.9408\n"
     ]
    }
   ],
   "source": [
    "print('Test loss:', score[0])\n",
    "print('Test accuracy:', score[1])"
   ]
  },
  {
   "cell_type": "code",
   "execution_count": 11,
   "metadata": {},
   "outputs": [
    {
     "name": "stdout",
     "output_type": "stream",
     "text": [
      "v4.3.6_ia/weights-improvement-02-0.94.hdf5\n",
      "Test loss: 0.22287949445862323\n",
      "Test accuracy: 0.9395\n",
      "v4.3.6_ia/weights-improvement-01-0.94.hdf5\n",
      "Test loss: 0.2227213383153081\n",
      "Test accuracy: 0.9399\n",
      "v4.3.6_ia/weights-improvement-11-0.94.hdf5\n",
      "Test loss: 0.23412770001962782\n",
      "Test accuracy: 0.9403\n",
      "v4.3.6_ia/weights-improvement-12-0.94.hdf5\n",
      "Test loss: 0.2325759808738716\n",
      "Test accuracy: 0.9414\n"
     ]
    }
   ],
   "source": [
    "# weights\n",
    "from glob import glob\n",
    "g = glob(outpath + '/*')\n",
    "\n",
    "for wt in g:\n",
    "    model.load_weights(wt)\n",
    "    score = model.evaluate(X_test, y_test, verbose=0)\n",
    "    print(wt)\n",
    "    print('Test loss:', score[0])\n",
    "    print('Test accuracy:', score[1])"
   ]
  },
  {
   "cell_type": "markdown",
   "metadata": {
    "_cell_guid": "f860c207-af4d-4c32-b4d2-4ea2d39902fe",
    "_uuid": "d18bc5dd0ec23cda8ea5ad846b9877704f484951"
   },
   "source": [
    "### Results\n"
   ]
  },
  {
   "cell_type": "code",
   "execution_count": 12,
   "metadata": {
    "_cell_guid": "324c3a68-6381-4a39-a5a1-8fac766150c0",
    "_uuid": "042117c73a10d7cbda6bc42ab60f9b0407cdf2c1"
   },
   "outputs": [
    {
     "data": {
      "image/png": "[encoded data removed]",
      "text/plain": [
       "<Figure size 432x288 with 1 Axes>"
      ]
     },
     "metadata": {},
     "output_type": "display_data"
    },
    {
     "data": {
      "image/png": "[encoded data removed]",
      "text/plain": [
       "<Figure size 432x288 with 1 Axes>"
      ]
     },
     "metadata": {},
     "output_type": "display_data"
    }
   ],
   "source": [
    "import matplotlib.pyplot as plt\n",
    "%matplotlib inline\n",
    "accuracy = history.history['acc']\n",
    "val_accuracy = history.history['val_acc']\n",
    "loss = history.history['loss']\n",
    "val_loss = history.history['val_loss']\n",
    "epochs = range(len(accuracy))\n",
    "plt.plot(epochs, accuracy, 'bo', label='Training accuracy')\n",
    "plt.plot(epochs, val_accuracy, 'b', label='Validation accuracy')\n",
    "plt.title('Training and validation accuracy')\n",
    "plt.legend()\n",
    "plt.figure()\n",
    "plt.plot(epochs, loss, 'bo', label='Training loss')\n",
    "plt.plot(epochs, val_loss, 'b', label='Validation loss')\n",
    "plt.title('Training and validation loss')\n",
    "plt.legend()\n",
    "plt.show()"
   ]
  },
  {
   "cell_type": "markdown",
   "metadata": {
    "_cell_guid": "1311601b-9a53-4e59-adcd-4365c811f85e",
    "_uuid": "28e5331842de7baaffb3a1e74f6a4c03e140759a"
   },
   "source": [
    "### Classification Report"
   ]
  },
  {
   "cell_type": "code",
   "execution_count": 13,
   "metadata": {
    "_cell_guid": "721514ef-520b-42a2-9d57-2f82fbae8393",
    "_uuid": "0275d1189e6425353537fa3ebe5d97d7b6759551"
   },
   "outputs": [],
   "source": [
    "#get the predictions for the test data\n",
    "predicted_classes = model.predict_classes(X_test)\n",
    "\n",
    "#get the indices to be plotted\n",
    "y_true = data_test.iloc[:, 0]\n",
    "correct = np.nonzero(predicted_classes==y_true)[0]\n",
    "incorrect = np.nonzero(predicted_classes!=y_true)[0]"
   ]
  },
  {
   "cell_type": "code",
   "execution_count": 14,
   "metadata": {
    "_cell_guid": "2dfc23f6-e0be-4014-8ce1-c6a33b1eccde",
    "_uuid": "cc30fc7238f09f2372f718f17bd0f724fe898736"
   },
   "outputs": [
    {
     "name": "stdout",
     "output_type": "stream",
     "text": [
      "             precision    recall  f1-score   support\n",
      "\n",
      "    Class 0       0.92      0.89      0.90      1000\n",
      "    Class 1       1.00      0.99      0.99      1000\n",
      "    Class 2       0.93      0.91      0.92      1000\n",
      "    Class 3       0.94      0.96      0.95      1000\n",
      "    Class 4       0.93      0.90      0.92      1000\n",
      "    Class 5       0.99      0.98      0.99      1000\n",
      "    Class 6       0.80      0.85      0.83      1000\n",
      "    Class 7       0.96      0.97      0.96      1000\n",
      "    Class 8       0.99      0.99      0.99      1000\n",
      "    Class 9       0.97      0.97      0.97      1000\n",
      "\n",
      "avg / total       0.94      0.94      0.94     10000\n",
      "\n"
     ]
    }
   ],
   "source": [
    "from sklearn.metrics import classification_report\n",
    "target_names = [\"Class {}\".format(i) for i in range(num_classes)]\n",
    "print(classification_report(y_true, predicted_classes, target_names=target_names))"
   ]
  }
 ],
 "metadata": {
  "kernelspec": {
   "display_name": "Python 3",
   "language": "python",
   "name": "python3"
  },
  "language_info": {
   "codemirror_mode": {
    "name": "ipython",
    "version": 3
   },
   "file_extension": ".py",
   "mimetype": "text/x-python",
   "name": "python",
   "nbconvert_exporter": "python",
   "pygments_lexer": "ipython3",
   "version": "3.6.4"
  }
 },
 "nbformat": 4,
 "nbformat_minor": 1
}
